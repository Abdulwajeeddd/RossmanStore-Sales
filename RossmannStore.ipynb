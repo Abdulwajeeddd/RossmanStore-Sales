{
 "cells": [
  {
   "cell_type": "code",
   "execution_count": null,
   "id": "ac359d29-3402-49d2-bfee-f12e4a3546cd",
   "metadata": {},
   "outputs": [],
   "source": [
    "import os\n",
    "import matplotlib\n",
    "import opendatasets as od\n",
    "import numpy as np\n",
    "import pandas as pd\n",
    "import matplotlib.pyplot as plt\n",
    "import seaborn as sns\n",
    "import plotly.express as px\n",
    "%matplotlib inline\n",
    "\n",
    "sns.set_style('darkgrid')\n",
    "matplotlib.rcParams['font.size'] = 14\n",
    "matplotlib.rcParams['figure.figsize'] = (10 , 6)\n",
    "matplotlib.rcParams['figure.facecolor'] = '#00000000'"
   ]
  },
  {
   "cell_type": "code",
   "execution_count": null,
   "id": "189c6b18-20a6-45c8-b080-f7796fac2de4",
   "metadata": {},
   "outputs": [],
   "source": []
  },
  {
   "cell_type": "code",
   "execution_count": null,
   "id": "ba56bb74-9369-4d84-9b65-8f42cd62efdb",
   "metadata": {},
   "outputs": [],
   "source": [
    "od.download('https://www.kaggle.com/competitions/rossmann-store-sales/overview')"
   ]
  },
  {
   "cell_type": "code",
   "execution_count": null,
   "id": "0aaa8def-5dde-4c96-8350-f4ba4cd975e2",
   "metadata": {},
   "outputs": [],
   "source": [
    "os.listdir('rossmann-store-sales')"
   ]
  },
  {
   "cell_type": "code",
   "execution_count": null,
   "id": "c3180b27-3544-40d1-9022-763667ac0248",
   "metadata": {},
   "outputs": [],
   "source": [
    "ross_df = pd.read_csv('./rossmann-store-sales/train.csv', low_memory=False)"
   ]
  },
  {
   "cell_type": "code",
   "execution_count": null,
   "id": "2f2bb54f-fbb0-4b26-a081-da66db18aeb7",
   "metadata": {},
   "outputs": [],
   "source": [
    "ross_df"
   ]
  },
  {
   "cell_type": "code",
   "execution_count": null,
   "id": "a0f6737f-c535-41a6-8cc5-5280fe9ddd3b",
   "metadata": {},
   "outputs": [],
   "source": [
    "store_df = pd.read_csv('./rossmann-store-sales/store.csv')"
   ]
  },
  {
   "cell_type": "code",
   "execution_count": null,
   "id": "79534367-8636-4eb8-8901-51325931d31c",
   "metadata": {},
   "outputs": [],
   "source": [
    "store_df"
   ]
  },
  {
   "cell_type": "code",
   "execution_count": null,
   "id": "527e971b-200a-4ff2-8f8d-dba5a683b672",
   "metadata": {},
   "outputs": [],
   "source": [
    "merged_df = ross_df.merge(store_df, how='left', on='Store')\n",
    "merged_df"
   ]
  },
  {
   "cell_type": "code",
   "execution_count": null,
   "id": "23e94539-7288-4074-8e9c-5f872f9da958",
   "metadata": {},
   "outputs": [],
   "source": [
    "merged_df.shape"
   ]
  },
  {
   "cell_type": "code",
   "execution_count": null,
   "id": "b598d565-baea-419d-97cd-4113c43544c8",
   "metadata": {},
   "outputs": [],
   "source": [
    "test_df = pd.read_csv('rossmann-store-sales/test.csv')"
   ]
  },
  {
   "cell_type": "code",
   "execution_count": null,
   "id": "eff076a1-05bd-4350-a190-d4f6a51be160",
   "metadata": {},
   "outputs": [],
   "source": [
    "merged_test_df = test_df.merge(store_df, how='left', on='Store') "
   ]
  },
  {
   "cell_type": "code",
   "execution_count": null,
   "id": "4dbfb0bd-ce2f-41db-9169-49299d79f31d",
   "metadata": {},
   "outputs": [],
   "source": [
    "merged_test_df"
   ]
  },
  {
   "cell_type": "code",
   "execution_count": null,
   "id": "f38f3760-bf43-4014-b555-e8273173ec45",
   "metadata": {},
   "outputs": [],
   "source": [
    "test_df"
   ]
  },
  {
   "cell_type": "code",
   "execution_count": null,
   "id": "8fa71c15-cf76-4a71-aedf-857c80928ecb",
   "metadata": {},
   "outputs": [],
   "source": [
    "merged_df.info()"
   ]
  },
  {
   "cell_type": "code",
   "execution_count": null,
   "id": "b01ec53b-e62c-41ce-bae5-fa172051c416",
   "metadata": {},
   "outputs": [],
   "source": [
    "round(merged_df.describe().T,2)"
   ]
  },
  {
   "cell_type": "code",
   "execution_count": null,
   "id": "a8000130-8417-4976-a5a2-0da02a0b513d",
   "metadata": {},
   "outputs": [],
   "source": [
    " merged_df.duplicated().sum()"
   ]
  },
  {
   "cell_type": "code",
   "execution_count": null,
   "id": "4ae400a0-cd62-442a-b4dd-66b1319cb088",
   "metadata": {},
   "outputs": [],
   "source": [
    "merged_df['Date'] = pd.to_datetime(merged_df.Date)"
   ]
  },
  {
   "cell_type": "code",
   "execution_count": null,
   "id": "568203aa-01ac-4da3-b4d1-7775d59c9f42",
   "metadata": {},
   "outputs": [],
   "source": [
    "merged_test_df['Date'] = pd.to_datetime(merged_test_df.Date)"
   ]
  },
  {
   "cell_type": "code",
   "execution_count": null,
   "id": "154c2efe-38ca-4dc2-9766-700a5d51ee38",
   "metadata": {},
   "outputs": [],
   "source": [
    "merged_test_df.Date.min(), merged_test_df.Date.max()"
   ]
  },
  {
   "cell_type": "code",
   "execution_count": null,
   "id": "6d86a88f-e835-4f0b-bd4e-0125b5de2e95",
   "metadata": {},
   "outputs": [],
   "source": [
    "sns.histplot(data=merged_df, x='Sales')"
   ]
  },
  {
   "cell_type": "code",
   "execution_count": null,
   "id": "a88425a8-20ba-457b-ad59-110d7842b74c",
   "metadata": {},
   "outputs": [],
   "source": [
    "merged_df.Open.value_counts()"
   ]
  },
  {
   "cell_type": "markdown",
   "id": "f3093099-67cf-4190-8c07-33268c9acb42",
   "metadata": {},
   "source": [
    "Since taking the values of the store when it was closed it is waste of training model with that data so we will remove the data that is present "
   ]
  },
  {
   "cell_type": "code",
   "execution_count": null,
   "id": "a6d5a644-0bb8-46d4-b527-72a69743a64d",
   "metadata": {},
   "outputs": [],
   "source": [
    "merged_df = merged_df[merged_df.Open==1].copy()"
   ]
  },
  {
   "cell_type": "code",
   "execution_count": null,
   "id": "a29cd0a8-761a-4fbf-8172-fe328e605fc8",
   "metadata": {},
   "outputs": [],
   "source": [
    "sns.histplot(data=merged_df, x='Sales')"
   ]
  },
  {
   "cell_type": "code",
   "execution_count": null,
   "id": "cdb1be39-f5ec-436c-b42c-aadab11b0330",
   "metadata": {},
   "outputs": [],
   "source": [
    "plt.figure(figsize=(18,8))\n",
    "temp_df = merged_df.sample(40000)\n",
    "sns.scatterplot(x=temp_df.Sales, y=temp_df.Customers, hue=temp_df.Date.dt.year, alpha=0.8)\n",
    "plt.title(\"Sales Vs Customers\")\n",
    "plt.show()"
   ]
  },
  {
   "cell_type": "code",
   "execution_count": null,
   "id": "154fb232-a194-457e-868d-800fcf272fc0",
   "metadata": {},
   "outputs": [],
   "source": [
    "plt.figure(figsize=(18,8))\n",
    "temp_df = merged_df.sample(40000)\n",
    "sns.scatterplot(x=temp_df.Store, y=temp_df.Sales, hue=temp_df.Date.dt.year, alpha=0.8)\n",
    "plt.title(\"Stores Vs Sales\")\n",
    "plt.show()"
   ]
  },
  {
   "cell_type": "code",
   "execution_count": null,
   "id": "6fbe3177-d11d-469f-aa42-0031c3f981b4",
   "metadata": {},
   "outputs": [],
   "source": [
    "sns.barplot(data=merged_df, x='DayOfWeek', y='Sales')"
   ]
  },
  {
   "cell_type": "code",
   "execution_count": null,
   "id": "418a271d-7031-4c8c-8d08-81ba06021fd6",
   "metadata": {},
   "outputs": [],
   "source": [
    "sns.barplot(data=merged_df, x='Promo', y='Sales')"
   ]
  },
  {
   "cell_type": "code",
   "execution_count": null,
   "id": "6c7f0a03-a168-4ad0-9866-6410a38438c5",
   "metadata": {},
   "outputs": [],
   "source": [
    "numeric_df = merged_df.select_dtypes(include=['number'])\n",
    "numeric_df.corr()['Sales'].sort_values(ascending=False)"
   ]
  },
  {
   "cell_type": "markdown",
   "id": "621ba675-4079-438d-96d7-d7e117d00efd",
   "metadata": {},
   "source": [
    "Now we will look at feature engineering\n",
    "Feature Engineering is the process of creating new features by transforming existing features or by corporating data from external sources"
   ]
  },
  {
   "cell_type": "code",
   "execution_count": null,
   "id": "03105823-d3ea-4018-96ff-8113f3443fa9",
   "metadata": {},
   "outputs": [],
   "source": [
    "merged_df"
   ]
  },
  {
   "cell_type": "code",
   "execution_count": null,
   "id": "e771446c-6a42-4e50-bc4b-07c4125710d7",
   "metadata": {},
   "outputs": [],
   "source": [
    "merged_df['Day'] = merged_df.Date.dt.day\n",
    "merged_df['Month'] = merged_df.Date.dt.month\n",
    "merged_df['Year'] = merged_df.Date.dt.year"
   ]
  },
  {
   "cell_type": "code",
   "execution_count": null,
   "id": "57df6289-2be0-48cf-854b-6079a37de531",
   "metadata": {},
   "outputs": [],
   "source": [
    "merged_test_df['Day'] = merged_test_df.Date.dt.day\n",
    "merged_test_df['Month'] = merged_test_df.Date.dt.month\n",
    "merged_test_df['Year'] = merged_test_df.Date.dt.year"
   ]
  },
  {
   "cell_type": "code",
   "execution_count": null,
   "id": "452c11af-5bbc-4ec6-bbfb-e5154f9dbba3",
   "metadata": {},
   "outputs": [],
   "source": [
    "sns.barplot(data=merged_df, x='Year', y='Sales')"
   ]
  },
  {
   "cell_type": "code",
   "execution_count": null,
   "id": "c0d8bcc7-481b-4ebd-aee6-f39d42d39e62",
   "metadata": {},
   "outputs": [],
   "source": [
    "sns.barplot(data=merged_df, x='Month', y='Sales')"
   ]
  },
  {
   "cell_type": "code",
   "execution_count": null,
   "id": "f240b8c8-3891-4db9-ba85-358264431f41",
   "metadata": {},
   "outputs": [],
   "source": [
    "len(merged_df)"
   ]
  },
  {
   "cell_type": "code",
   "execution_count": null,
   "id": "d03b81b2-03d8-466a-a2ed-48f05b213891",
   "metadata": {},
   "outputs": [],
   "source": [
    "train_size = int(.75 * len(merged_df))\n",
    "train_size"
   ]
  },
  {
   "cell_type": "code",
   "execution_count": null,
   "id": "c767a4ab-6f6b-47c0-96cf-543b6642175b",
   "metadata": {},
   "outputs": [],
   "source": [
    "sorted_df = merged_df.sort_values('Date')\n",
    "train_df, val_df = sorted_df[:train_size], sorted_df[train_size:]"
   ]
  },
  {
   "cell_type": "code",
   "execution_count": null,
   "id": "3a663653-a2d9-424f-b01f-fe72d873cbdf",
   "metadata": {},
   "outputs": [],
   "source": [
    "len(train_df), len(val_df)"
   ]
  },
  {
   "cell_type": "code",
   "execution_count": null,
   "id": "16c0d784-aace-4fa3-8af1-73a7c6a97374",
   "metadata": {},
   "outputs": [],
   "source": [
    "train_df"
   ]
  },
  {
   "cell_type": "code",
   "execution_count": null,
   "id": "c9ad69b0-c673-4b24-bffe-0ca9f1b36a6d",
   "metadata": {},
   "outputs": [],
   "source": [
    "train_df.Date.min(), train_df.Date.max()"
   ]
  },
  {
   "cell_type": "code",
   "execution_count": null,
   "id": "17fcc0b7-77fc-4c72-aaf0-3779c690ccd5",
   "metadata": {},
   "outputs": [],
   "source": [
    "val_df.Date.min(), val_df.Date.min()"
   ]
  },
  {
   "cell_type": "code",
   "execution_count": null,
   "id": "eff5a0f5-3e5c-40b4-ae20-e4a83cad2342",
   "metadata": {},
   "outputs": [],
   "source": [
    "train_df.columns"
   ]
  },
  {
   "cell_type": "code",
   "execution_count": null,
   "id": "a0aab04a-bd1b-4dad-a304-b65690cb25f5",
   "metadata": {},
   "outputs": [],
   "source": [
    "input_cols = ['Store', 'DayOfWeek', 'Promo', 'StateHoliday', 'StoreType',\n",
    "              'Assortment', 'Day', 'Month', 'Year']"
   ]
  },
  {
   "cell_type": "code",
   "execution_count": null,
   "id": "e0e773ae-90c2-4b85-bfd6-178dada091b7",
   "metadata": {},
   "outputs": [],
   "source": [
    "target_col = 'Sales'"
   ]
  },
  {
   "cell_type": "code",
   "execution_count": null,
   "id": "151aa782-6938-48e7-aa13-8518b2e2bd79",
   "metadata": {},
   "outputs": [],
   "source": [
    "merged_df[input_cols].nunique()"
   ]
  },
  {
   "cell_type": "code",
   "execution_count": null,
   "id": "26ecb08a-a0ee-40a1-bd45-917a2e738c4e",
   "metadata": {},
   "outputs": [],
   "source": [
    "train_inputs = train_df[input_cols].copy()\n",
    "train_targets = train_df[target_col].copy()"
   ]
  },
  {
   "cell_type": "code",
   "execution_count": null,
   "id": "620c3fa8-ca7d-4c24-89b9-e55d40038f38",
   "metadata": {},
   "outputs": [],
   "source": [
    "val_inputs = val_df[input_cols].copy()\n",
    "val_targets = val_df[target_col].copy()"
   ]
  },
  {
   "cell_type": "code",
   "execution_count": null,
   "id": "72cc592e-62cc-4df6-b700-cce30a48cce0",
   "metadata": {},
   "outputs": [],
   "source": [
    "numeric_cols = ['Store', 'Day', 'Month', 'Year']\n",
    "categorical_cols = ['DayOfWeek', 'Promo', 'StateHoliday', 'StoreType', 'Assortment']"
   ]
  },
  {
   "cell_type": "code",
   "execution_count": null,
   "id": "a9a4a61b-8c16-46c4-9102-bbebc0977e8e",
   "metadata": {},
   "outputs": [],
   "source": [
    "test_inputs = merged_test_df[input_cols].copy()"
   ]
  },
  {
   "cell_type": "code",
   "execution_count": null,
   "id": "bc428a01-742d-46b5-9ccf-8de9329b8930",
   "metadata": {},
   "outputs": [],
   "source": [
    "#For handling Missing Data\n",
    "from sklearn.impute import SimpleImputer\n",
    "\n",
    "imputer = SimpleImputer(strategy='mean').fit(train_inputs[numeric_cols])"
   ]
  },
  {
   "cell_type": "code",
   "execution_count": null,
   "id": "688c0f96-e421-4ce6-8a77-3ebeeb0abaeb",
   "metadata": {},
   "outputs": [],
   "source": [
    "train_inputs[numeric_cols] = imputer.transform(train_inputs[numeric_cols])\n",
    "val_inputs[numeric_cols] = imputer.transform(val_inputs[numeric_cols])\n",
    "test_inputs[numeric_cols] = imputer.transform(test_inputs[numeric_cols])"
   ]
  },
  {
   "cell_type": "code",
   "execution_count": null,
   "id": "83fad432-46ba-41d3-a96a-5f23ba2d7017",
   "metadata": {},
   "outputs": [],
   "source": [
    "from sklearn.preprocessing import MinMaxScaler"
   ]
  },
  {
   "cell_type": "code",
   "execution_count": null,
   "id": "a3682a2c-ce40-4373-a655-c40a8ebecd11",
   "metadata": {},
   "outputs": [],
   "source": [
    "scaler = MinMaxScaler().fit(train_inputs[numeric_cols])"
   ]
  },
  {
   "cell_type": "code",
   "execution_count": null,
   "id": "91e2cde1-2c6d-44c2-ab2b-118e2dd1ad12",
   "metadata": {},
   "outputs": [],
   "source": [
    "train_inputs[numeric_cols] = scaler.transform(train_inputs[numeric_cols])\n",
    "val_inputs[numeric_cols] = scaler.transform(val_inputs[numeric_cols])\n",
    "test_inputs[numeric_cols] = scaler.transform(test_inputs[numeric_cols])"
   ]
  },
  {
   "cell_type": "code",
   "execution_count": null,
   "id": "644aae1a-b08a-43f0-9341-7a12880a9c75",
   "metadata": {},
   "outputs": [],
   "source": [
    "from sklearn.preprocessing import OneHotEncoder"
   ]
  },
  {
   "cell_type": "code",
   "execution_count": null,
   "id": "71ed1a76-7f2a-439a-a25c-83cb5643e0d7",
   "metadata": {},
   "outputs": [],
   "source": [
    "encoder = OneHotEncoder(sparse_output=False, handle_unknown='ignore').fit(train_inputs[categorical_cols])\n",
    "encoded_cols = list(encoder.get_feature_names_out(categorical_cols))"
   ]
  },
  {
   "cell_type": "code",
   "execution_count": null,
   "id": "4d0a3d69-94d0-4a72-ab2d-e50ed8e6ef4c",
   "metadata": {},
   "outputs": [],
   "source": [
    "train_inputs[encoded_cols] = encoder.transform(train_inputs[categorical_cols])\n",
    "val_inputs[encoded_cols] = encoder.transform(val_inputs[categorical_cols])\n",
    "test_inputs[encoded_cols] = encoder.transform(test_inputs[categorical_cols])"
   ]
  },
  {
   "cell_type": "code",
   "execution_count": null,
   "id": "0c07fb0d-5d1d-472c-9d55-c0769ef93850",
   "metadata": {},
   "outputs": [],
   "source": [
    "train_inputs"
   ]
  },
  {
   "cell_type": "code",
   "execution_count": null,
   "id": "8875dcfb-7f03-46fe-ac4c-e9ddba301dd5",
   "metadata": {},
   "outputs": [],
   "source": [
    "X_train = train_inputs[numeric_cols + encoded_cols]\n",
    "X_val = val_inputs[numeric_cols + encoded_cols]\n",
    "X_test = test_inputs[numeric_cols + encoded_cols]"
   ]
  },
  {
   "cell_type": "code",
   "execution_count": null,
   "id": "76725805-aa7b-45ce-a02f-f4b53ab70eb9",
   "metadata": {},
   "outputs": [],
   "source": [
    "X_train"
   ]
  },
  {
   "cell_type": "code",
   "execution_count": null,
   "id": "221056c8-bae2-4546-8d53-f0ca396c107a",
   "metadata": {},
   "outputs": [],
   "source": [
    "def return_mean(inputs):\n",
    "    return np.full(len(inputs), merged_df.Sales.mean())"
   ]
  },
  {
   "cell_type": "code",
   "execution_count": null,
   "id": "4ec16ecc-4068-4f8a-bbcb-05c9e4bd1fa0",
   "metadata": {},
   "outputs": [],
   "source": [
    "train_preds = return_mean(X_train)"
   ]
  },
  {
   "cell_type": "code",
   "execution_count": null,
   "id": "f4ae0d42-7b1b-46d4-b8d5-1f526425def6",
   "metadata": {},
   "outputs": [],
   "source": [
    "train_preds"
   ]
  },
  {
   "cell_type": "code",
   "execution_count": null,
   "id": "26213519-22c0-4425-a4c7-f74946fa0341",
   "metadata": {},
   "outputs": [],
   "source": [
    "from sklearn.metrics import root_mean_squared_error\n",
    "root_mean_squared_error(return_mean(X_val), val_targets)"
   ]
  },
  {
   "cell_type": "code",
   "execution_count": null,
   "id": "c822f1d7-cbbc-49cd-8938-0208b49c562f",
   "metadata": {},
   "outputs": [],
   "source": [
    "root_mean_squared_error(train_preds, train_targets)"
   ]
  },
  {
   "cell_type": "code",
   "execution_count": null,
   "id": "6c554cc2-d209-46b7-abc5-b95a637b3027",
   "metadata": {},
   "outputs": [],
   "source": [
    "def guess_random(inputs):\n",
    "    lo, hi = merged_df.Sales.min(), merged_df.Sales.max()\n",
    "    return np.random.random(len(inputs)) * (hi - lo) + lo"
   ]
  },
  {
   "cell_type": "code",
   "execution_count": null,
   "id": "259a5749-61f6-40e1-a198-00bc00632d5d",
   "metadata": {},
   "outputs": [],
   "source": [
    "train_preds = guess_random(X_train)\n",
    "train_preds"
   ]
  },
  {
   "cell_type": "code",
   "execution_count": null,
   "id": "7b212dd6-fc9f-417b-9256-a994c7337097",
   "metadata": {},
   "outputs": [],
   "source": [
    "from sklearn.linear_model import LinearRegression"
   ]
  },
  {
   "cell_type": "code",
   "execution_count": null,
   "id": "cdd7d99b-4f9a-4107-8400-eb52375b6351",
   "metadata": {},
   "outputs": [],
   "source": [
    "linreg = LinearRegression()"
   ]
  },
  {
   "cell_type": "code",
   "execution_count": null,
   "id": "c5112f3a-0dfa-4be1-bd38-3af8ff53eb45",
   "metadata": {},
   "outputs": [],
   "source": [
    "linreg.fit(X_train, train_targets)"
   ]
  },
  {
   "cell_type": "code",
   "execution_count": null,
   "id": "869a8c52-8925-49e7-aae1-43edabe47cab",
   "metadata": {},
   "outputs": [],
   "source": [
    "train_preds = linreg.predict(X_train)\n",
    "train_preds"
   ]
  },
  {
   "cell_type": "code",
   "execution_count": null,
   "id": "ddcb45c1-a711-49c3-a0b7-47880d749bd0",
   "metadata": {},
   "outputs": [],
   "source": [
    "root_mean_squared_error(train_preds, train_targets)"
   ]
  },
  {
   "cell_type": "code",
   "execution_count": null,
   "id": "601ed792-c5cc-4b6a-8346-72c12ec22c6e",
   "metadata": {},
   "outputs": [],
   "source": [
    "val_preds = linreg.predict(X_val)\n",
    "val_preds"
   ]
  },
  {
   "cell_type": "code",
   "execution_count": null,
   "id": "d84fcfb7-6698-4bef-8828-9e02db4535c3",
   "metadata": {},
   "outputs": [],
   "source": [
    "root_mean_squared_error(val_preds, val_targets)"
   ]
  },
  {
   "cell_type": "code",
   "execution_count": null,
   "id": "f5dec8fb-971c-4723-8d68-468b666457af",
   "metadata": {},
   "outputs": [],
   "source": [
    "def try_model(model):\n",
    "    model.fit(X_train, train_targets)\n",
    "\n",
    "    train_preds = model.predict(X_train)\n",
    "    val_preds = model.predict(X_val)\n",
    "\n",
    "    train_rsme = root_mean_squared_error(train_targets, train_preds)\n",
    "    val_rsme = root_mean_squared_error(val_targets, val_preds)\n",
    "    return train_rsme, val_rsme"
   ]
  },
  {
   "cell_type": "code",
   "execution_count": null,
   "id": "6b3abefd-b197-4237-b0c1-c67ca08d7d94",
   "metadata": {},
   "outputs": [],
   "source": [
    "from sklearn.linear_model import LinearRegression, Ridge, Lasso, ElasticNet, SGDRegressor"
   ]
  },
  {
   "cell_type": "code",
   "execution_count": null,
   "id": "1ceb8249-6117-4df2-b0ce-38d2c56112cd",
   "metadata": {},
   "outputs": [],
   "source": [
    "try_model(LinearRegression())"
   ]
  },
  {
   "cell_type": "code",
   "execution_count": null,
   "id": "9f50dda8-0124-4736-b7d6-0487a6bc4649",
   "metadata": {},
   "outputs": [],
   "source": [
    "try_model(Ridge())"
   ]
  },
  {
   "cell_type": "code",
   "execution_count": null,
   "id": "853e28a7-9ccb-4cb7-9aed-839c4524bd6f",
   "metadata": {},
   "outputs": [],
   "source": [
    "try_model(Lasso())"
   ]
  },
  {
   "cell_type": "code",
   "execution_count": null,
   "id": "a1a9f7b2-e828-4c5a-96e6-a75656089b5e",
   "metadata": {},
   "outputs": [],
   "source": [
    "try_model(SGDRegressor())"
   ]
  },
  {
   "cell_type": "code",
   "execution_count": null,
   "id": "5a7c0c12-86ef-49b1-8d2d-9b22acd96113",
   "metadata": {},
   "outputs": [],
   "source": [
    "#TREE based model\n",
    "from sklearn.tree import DecisionTreeRegressor, plot_tree"
   ]
  },
  {
   "cell_type": "code",
   "execution_count": null,
   "id": "f72b9a27-7634-4207-bda3-5e8f9e018e90",
   "metadata": {},
   "outputs": [],
   "source": [
    "tree = DecisionTreeRegressor(random_state=42)\n",
    "try_model(tree)"
   ]
  },
  {
   "cell_type": "code",
   "execution_count": null,
   "id": "b2e0eb3b-4fad-4d05-9df6-fb4a10868720",
   "metadata": {},
   "outputs": [],
   "source": [
    "plt.figure(figsize=(40, 20))\n",
    "plot_tree(tree, max_depth=3, filled=True, feature_names=numeric_cols+encoded_cols);"
   ]
  },
  {
   "cell_type": "code",
   "execution_count": null,
   "id": "b56ed880-a60e-4eec-a255-9d66299eff1b",
   "metadata": {},
   "outputs": [],
   "source": [
    "from sklearn.ensemble import RandomForestRegressor"
   ]
  },
  {
   "cell_type": "code",
   "execution_count": null,
   "id": "bd9927f0-bc02-4676-920f-4cdae6e5f26b",
   "metadata": {},
   "outputs": [],
   "source": [
    "%%time\n",
    "rf = RandomForestRegressor(random_state=42, n_jobs=-1)\n",
    "try_model(rf)"
   ]
  },
  {
   "cell_type": "code",
   "execution_count": null,
   "id": "a6c96111-c684-48bd-b13c-3e9d94777b76",
   "metadata": {},
   "outputs": [],
   "source": [
    "rf.feature_importances_"
   ]
  },
  {
   "cell_type": "code",
   "execution_count": null,
   "id": "16f2311a-6fed-434e-90f2-066cabdd317b",
   "metadata": {},
   "outputs": [],
   "source": [
    "importance_df = pd.DataFrame({ \n",
    "    'feature': numeric_cols+encoded_cols, \n",
    "    'importance': rf.feature_importances_\n",
    "}).sort_values('importance', ascending=False)\n",
    "importance_df.head(10)"
   ]
  },
  {
   "cell_type": "code",
   "execution_count": null,
   "id": "672441a9-fbb7-48b3-a4ca-a4563eae6c3c",
   "metadata": {},
   "outputs": [],
   "source": [
    "sns.barplot(data=importance_df.head(10), x='importance', y='feature');"
   ]
  },
  {
   "cell_type": "code",
   "execution_count": null,
   "id": "be9d01b7-6976-4585-a303-60a2811b8dd8",
   "metadata": {},
   "outputs": [],
   "source": [
    "def predict_input(model, single_input):\n",
    "    if single_input['Open'] == 0:\n",
    "        return 0.\n",
    "    input_df = pd.DataFrame([single_input])\n",
    "    input_df['Date'] = pd.to_datetime(input_df.Date)\n",
    "    input_df['Day'] = input_df.Date.dt.day\n",
    "    input_df['Month'] = input_df.Date.dt.month\n",
    "    input_df['Year'] = input_df.Date.dt.year\n",
    "    input_df[numeric_cols] = imputer.transform(input_df[numeric_cols])\n",
    "    input_df[numeric_cols] = scaler.transform(input_df[numeric_cols])\n",
    "    input_df[encoded_cols] = encoder.transform(input_df[categorical_cols])\n",
    "    X_input = input_df[numeric_cols + encoded_cols]\n",
    "    pred = model.predict(X_input)[0]\n",
    "    return pred"
   ]
  },
  {
   "cell_type": "code",
   "execution_count": null,
   "id": "2dbeff05-6dce-4456-949b-42a6c8d6815f",
   "metadata": {},
   "outputs": [],
   "source": []
  },
  {
   "cell_type": "code",
   "execution_count": null,
   "id": "111b2240-f7c6-4fdf-8eb1-052a3cc27925",
   "metadata": {
    "scrolled": true
   },
   "outputs": [],
   "source": [
    "sample_input = {'Id': 1,\n",
    " 'Store': 1,\n",
    " 'DayOfWeek': 4,\n",
    " 'Date': '2015-09-17 00:00:00',\n",
    " 'Open': 1.0,\n",
    " 'Promo': 1,\n",
    " 'StateHoliday': '0',\n",
    " 'SchoolHoliday': 0,\n",
    " 'StoreType': 'c',\n",
    " 'Assortment': 'a',\n",
    " 'CompetitionDistance': 1270.0,\n",
    " 'CompetitionOpenSinceMonth': 9.0,\n",
    " 'CompetitionOpenSinceYear': 2008.0,\n",
    " 'Promo2': 0,\n",
    " 'Promo2SinceWeek': np.nan,\n",
    " 'Promo2SinceYear': np.nan,\n",
    " 'PromoInterval': np.nan}\n",
    "\n",
    "sample_input"
   ]
  },
  {
   "cell_type": "code",
   "execution_count": null,
   "id": "16502858-8ea3-487e-a2a5-3b2c5f696339",
   "metadata": {},
   "outputs": [],
   "source": [
    "predict_input(rf, sample_input)"
   ]
  },
  {
   "cell_type": "code",
   "execution_count": null,
   "id": "ac2ea529-d2a0-40cb-89f7-09ed911c7c40",
   "metadata": {},
   "outputs": [],
   "source": []
  }
 ],
 "metadata": {
  "kernelspec": {
   "display_name": "Python 3 (ipykernel)",
   "language": "python",
   "name": "python3"
  },
  "language_info": {
   "codemirror_mode": {
    "name": "ipython",
    "version": 3
   },
   "file_extension": ".py",
   "mimetype": "text/x-python",
   "name": "python",
   "nbconvert_exporter": "python",
   "pygments_lexer": "ipython3",
   "version": "3.12.4"
  }
 },
 "nbformat": 4,
 "nbformat_minor": 5
}
